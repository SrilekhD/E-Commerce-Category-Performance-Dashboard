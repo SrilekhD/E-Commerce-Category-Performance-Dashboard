{
 "cells": [
  {
   "cell_type": "code",
   "execution_count": null,
   "id": "b9806023",
   "metadata": {},
   "outputs": [],
   "source": [
    "import pandas as pd\n",
    "import os\n",
    "\n",
    "# Set this to your local Olist dataset folder\n",
    "DATA_DIR = \"/Users/srilekh/Downloads/olist_datasets\"\n",
    "CLEANED_DIR = \"/Users/srilekh/Downloads/cleaned_olist_data\"\n",
    "\n",
    "# List of important CSVs in Olist dataset\n",
    "olist_files = [\n",
    "    \"olist_orders_dataset.csv\",\n",
    "    \"olist_order_items_dataset.csv\",\n",
    "    \"olist_order_payments_dataset.csv\",\n",
    "    \"olist_products_dataset.csv\",\n",
    "    \"olist_customers_dataset.csv\",\n",
    "    \"olist_order_reviews_dataset.csv\",\n",
    "]\n",
    "\n",
    "# Make a directory to save cleaned files\n",
    "os.makedirs(CLEANED_DIR, exist_ok=True)\n",
    "\n"
   ]
  },
  {
   "cell_type": "code",
   "execution_count": 7,
   "id": "9bab6e18",
   "metadata": {},
   "outputs": [],
   "source": [
    "def clean_csv(file_name):\n",
    "    try:\n",
    "        print(f\"Processing: {file_name}\")\n",
    "        file_path = os.path.join(DATA_DIR, file_name)\n",
    "\n",
    "        df = pd.read_csv(\n",
    "            file_path,\n",
    "            encoding='utf-8',\n",
    "            sep=',',\n",
    "            quotechar='\"',\n",
    "            on_bad_lines='skip'\n",
    "        )\n",
    "\n",
    "        # Clean column names\n",
    "        df.columns = df.columns.str.strip().str.replace(\" \", \"_\").str.lower()\n",
    "\n",
    "        # Save cleaned file\n",
    "        clean_path = os.path.join(CLEANED_DIR, f\"cleaned_{file_name}\")\n",
    "        df.to_csv(clean_path, index=False)\n",
    "        print(f\"Saved: {clean_path}\")\n",
    "\n",
    "    except Exception as e:\n",
    "        print(f\"Error with {file_name}: {e}\")\n"
   ]
  },
  {
   "cell_type": "code",
   "execution_count": 8,
   "id": "21a9f070",
   "metadata": {},
   "outputs": [
    {
     "name": "stdout",
     "output_type": "stream",
     "text": [
      "Processing: olist_orders_dataset.csv\n",
      "Saved: /Users/srilekh/Downloads/cleaned_olist_data/cleaned_olist_orders_dataset.csv\n",
      "Processing: olist_order_items_dataset.csv\n",
      "Saved: /Users/srilekh/Downloads/cleaned_olist_data/cleaned_olist_order_items_dataset.csv\n",
      "Processing: olist_order_payments_dataset.csv\n",
      "Saved: /Users/srilekh/Downloads/cleaned_olist_data/cleaned_olist_order_payments_dataset.csv\n",
      "Processing: olist_products_dataset.csv\n",
      "Saved: /Users/srilekh/Downloads/cleaned_olist_data/cleaned_olist_products_dataset.csv\n",
      "Processing: olist_customers_dataset.csv\n",
      "Saved: /Users/srilekh/Downloads/cleaned_olist_data/cleaned_olist_customers_dataset.csv\n",
      "Processing: olist_order_reviews_dataset.csv\n",
      "Saved: /Users/srilekh/Downloads/cleaned_olist_data/cleaned_olist_order_reviews_dataset.csv\n",
      "Processing: product_category_name_translation.csv\n",
      "Error with product_category_name_translation.csv: [Errno 2] No such file or directory: '/Users/srilekh/Downloads/olist_datasets/product_category_name_translation.csv'\n",
      "Cleaned files are loaded into: /Users/srilekh/Downloads/cleaned_olist_data\n"
     ]
    }
   ],
   "source": [
    "for file in olist_files:\n",
    "    clean_csv(file)\n",
    "\n",
    "print(\"Cleaned files are loaded into:\", CLEANED_DIR)\n"
   ]
  }
 ],
 "metadata": {
  "kernelspec": {
   "display_name": "Python 3",
   "language": "python",
   "name": "python3"
  },
  "language_info": {
   "codemirror_mode": {
    "name": "ipython",
    "version": 3
   },
   "file_extension": ".py",
   "mimetype": "text/x-python",
   "name": "python",
   "nbconvert_exporter": "python",
   "pygments_lexer": "ipython3",
   "version": "3.13.0"
  }
 },
 "nbformat": 4,
 "nbformat_minor": 5
}
